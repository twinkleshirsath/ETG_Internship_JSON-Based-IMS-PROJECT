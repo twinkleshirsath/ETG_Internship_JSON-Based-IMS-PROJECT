{
  "nbformat": 4,
  "nbformat_minor": 0,
  "metadata": {
    "colab": {
      "name": "JSON Based IMS.ipynb",
      "provenance": [],
      "collapsed_sections": []
    },
    "kernelspec": {
      "name": "python3",
      "display_name": "Python 3"
    },
    "language_info": {
      "name": "python"
    }
  },
  "cells": [
    {
      "cell_type": "code",
      "metadata": {
        "id": "eMb3TQLR5tVp"
      },
      "source": [
        "prod_data = {\n",
        "    101 : {\"name\":\"Pepsi Can\",               \"price\":120,  \"quan\":50,  \"exp\":\"20 oct 2023\",  \"brand\":\"Pepsi\"},\n",
        "    102 : {\"name\":\"Tata Salt\",               \"price\":234,   \"quan\":130, \"exp\":\"12 jan 2022\",  \"brand\":\"Tata\"},\n",
        "    103 : {\"name\":\"Tata Tea Gold\",           \"price\":55,   \"quan\":145, \"exp\":\"10 mar 2023\",  \"brand\":\"Tata\"},\n",
        "    104 : {\"name\":\"Turmeric Powder\",         \"price\":58,   \"quan\":122, \"exp\":\"23 jun 2023\",  \"brand\":\"Tata\"},\n",
        "    105 : {\"name\":\"Quaker Oats\",             \"price\":25,  \"quan\":30,  \"exp\":\"30 oct 2022\",  \"brand\":\"Quaker\"},\n",
        "    106 : {\"name\":\"Saffola Active\",          \"price\":432,  \"quan\":58,  \"exp\":\"29 jan 2022\",  \"brand\":\"Saffola\"},\n",
        "    107 : {\"name\":\"Kitkat Desert\",           \"price\":98,   \"quan\":59,  \"exp\":\"31 aug 2022\",  \"brand\":\"Nestle\"},\n",
        "    108 : {\"name\":\"Dark Fantasy Choco Fills\",\"price\":254,   \"quan\":90,  \"exp\":\"21 feb 2022\",  \"brand\":\"Dark Fantasy\"},\n",
        "    109 : {\"name\":\"Fogg Xtremo Scent\",       \"price\":65,  \"quan\":155, \"exp\":\"01 jan 2024\",  \"brand\":\"FOGG\"},\n",
        "    110 : {\"name\":\"Lotte Choco Pie\",         \"price\":107,  \"quan\":95,  \"exp\":\"01 jun 2022\",  \"brand\":\"Lotte\"},\n",
        "    111 : {\"name\":\"Britania Chocolate cake\", \"price\":121,  \"quan\":100, \"exp\":\"15 jul 2022\",  \"brand\":\"Britania\"},\n",
        "    112 : {\"name\":\"Pillsbury cookes cake\",   \"price\":86,   \"quan\":200, \"exp\":\"02 dec 2021\",  \"brand\":\"Pillsbury\"},\n",
        "    113 : {\"name\":\"Villain Perfume men\",     \"price\":98,  \"quan\":230, \"exp\":\"31 may 2024\",  \"brand\":\"Villian\"},\n",
        "    114 : {\"name\":\"Mom's Magic Cashew\",      \"price\":83,   \"quan\":180, \"exp\":\"19 mar 2022\",  \"brand\":\"Sunfeast\"},\n",
        "    115 : {\"name\":\"Betty Croker Pancake\",   \"price\":68,   \"quan\":185, \"exp\":\"19 feb 2022\",  \"brand\":\"Cadbury\"},\n",
        "    116 : {\"name\":\"Cadbury Oreo chacolate\",  \"price\":365,  \"quan\":190, \"exp\":\"15 jan 2022\",  \"brand\":\"Betty Croker\"},\n",
        "    117 : {\"name\":\"Parle G Original\",        \"price\":75,   \"quan\":140, \"exp\":\"13 dec 2011\",  \"brand\":\"Parle\"},\n",
        "    118 : {\"name\":\"Lays Potato Chips\",       \"price\":47,   \"quan\":450, \"exp\":\"14 feb 2023\",  \"brand\":\"Lay's\"},\n",
        "    119 : {\"name\":\"Bingo! Mad Angle\",        \"price\":59,   \"quan\":440, \"exp\":\"20 dec 2023\",  \"brand\":\"Bingo!\"},\n",
        "    120 : {\"name\":\"Kellogg's pringles\",      \"price\":99,   \"quan\":400, \"exp\":\"25 jan 2024\",  \"brand\":\"Kellog's\"},\n",
        "    121 : {\"name\":\"Dorito's Nacho Chips\",    \"price\":104,   \"quan\":360, \"exp\":\"22 jan 2023\",  \"brand\":\"Dorito's\"},\n",
        "    122 : {\"name\":\"Thums Up Soft Drink\",     \"price\":103,   \"quan\":60,  \"exp\":\"20 dec 2024\",  \"brand\":\"Thums Up\"},\n",
        "    123 : {\"name\":\"Svami Soda Water\",        \"price\":135,   \"quan\":70,  \"exp\":\"20 jun 2023\",  \"brand\":\"Svami\"},\n",
        "    124 : {\"name\":\"Coca-Cola\",               \"price\":780,   \"quan\":60,  \"exp\":\"22 jul 2023\",  \"brand\":\"Coca Cola\"},\n",
        "    125 : {\"name\":\"Sprite Lime Flavor\",      \"price\":567,   \"quan\":40,  \"exp\":\"20 nov 2023\",  \"brand\":\"Sprite\"},\n",
        "    126 : {\"name\":\"Colgate Maxfresh\",        \"price\":223,  \"quan\":55,  \"exp\":\"20 jun 2024\",  \"brand\":\"Colgate\"},\n",
        "    127 : {\"name\":\"Pepsodent Gum Care\",      \"price\":399,  \"quan\":150, \"exp\":\"15 jul 2022\",  \"brand\":\"Pepsodent\"},\n",
        "    128 : {\"name\":\"Dairy Milk Silk\",         \"price\":473,  \"quan\":50,  \"exp\":\"31 jan 2022\",  \"brand\":\"Cadbury\"},\n",
        "    129 : {\"name\":\"Nivea Men Face Wash\",     \"price\":194,  \"quan\":98,  \"exp\":\"31 jul 2022\",  \"brand\":\"Nivea\"},\n",
        "    130 : {\"name\":\"Himalaya Herbal Face wash\",\"price\":144, \"quan\":200, \"exp\":\"22 may 2022\",  \"brand\":\"Himalaya\"}\n",
        "}"
      ],
      "execution_count": 49,
      "outputs": []
    },
    {
      "cell_type": "code",
      "metadata": {
        "id": "LlNqT6Qy8mhW"
      },
      "source": [
        "import json"
      ],
      "execution_count": 50,
      "outputs": []
    },
    {
      "cell_type": "code",
      "metadata": {
        "id": "ornx3dhl8uAM"
      },
      "source": [
        "trs=json.dumps(prod_data)"
      ],
      "execution_count": 51,
      "outputs": []
    },
    {
      "cell_type": "code",
      "metadata": {
        "colab": {
          "base_uri": "https://localhost:8080/",
          "height": 107
        },
        "id": "70qNnRw_831g",
        "outputId": "0ba4aae8-b700-4db0-c5be-492f3f0cb381"
      },
      "source": [
        "trs"
      ],
      "execution_count": 52,
      "outputs": [
        {
          "output_type": "execute_result",
          "data": {
            "application/vnd.google.colaboratory.intrinsic+json": {
              "type": "string"
            },
            "text/plain": [
              "'{\"101\": {\"name\": \"Pepsi Can\", \"price\": 120, \"quan\": 50, \"exp\": \"20 oct 2023\", \"brand\": \"Pepsi\"}, \"102\": {\"name\": \"Tata Salt\", \"price\": 234, \"quan\": 130, \"exp\": \"12 jan 2022\", \"brand\": \"Tata\"}, \"103\": {\"name\": \"Tata Tea Gold\", \"price\": 55, \"quan\": 145, \"exp\": \"10 mar 2023\", \"brand\": \"Tata\"}, \"104\": {\"name\": \"Turmeric Powder\", \"price\": 58, \"quan\": 122, \"exp\": \"23 jun 2023\", \"brand\": \"Tata\"}, \"105\": {\"name\": \"Quaker Oats\", \"price\": 25, \"quan\": 30, \"exp\": \"30 oct 2022\", \"brand\": \"Quaker\"}, \"106\": {\"name\": \"Saffola Active\", \"price\": 432, \"quan\": 58, \"exp\": \"29 jan 2022\", \"brand\": \"Saffola\"}, \"107\": {\"name\": \"Kitkat Desert\", \"price\": 98, \"quan\": 59, \"exp\": \"31 aug 2022\", \"brand\": \"Nestle\"}, \"108\": {\"name\": \"Dark Fantasy Choco Fills\", \"price\": 254, \"quan\": 90, \"exp\": \"21 feb 2022\", \"brand\": \"Dark Fantasy\"}, \"109\": {\"name\": \"Fogg Xtremo Scent\", \"price\": 65, \"quan\": 155, \"exp\": \"01 jan 2024\", \"brand\": \"FOGG\"}, \"110\": {\"name\": \"Lotte Choco Pie\", \"price\": 107, \"quan\": 95, \"exp\": \"01 jun 2022\", \"brand\": \"Lotte\"}, \"111\": {\"name\": \"Britania Chocolate cake\", \"price\": 121, \"quan\": 100, \"exp\": \"15 jul 2022\", \"brand\": \"Britania\"}, \"112\": {\"name\": \"Pillsbury cookes cake\", \"price\": 86, \"quan\": 200, \"exp\": \"02 dec 2021\", \"brand\": \"Pillsbury\"}, \"113\": {\"name\": \"Villain Perfume men\", \"price\": 98, \"quan\": 230, \"exp\": \"31 may 2024\", \"brand\": \"Villian\"}, \"114\": {\"name\": \"Mom\\'s Magic Cashew\", \"price\": 83, \"quan\": 180, \"exp\": \"19 mar 2022\", \"brand\": \"Sunfeast\"}, \"115\": {\"name\": \"Betty Croker Pancake\", \"price\": 68, \"quan\": 185, \"exp\": \"19 feb 2022\", \"brand\": \"Cadbury\"}, \"116\": {\"name\": \"Cadbury Oreo chacolate\", \"price\": 365, \"quan\": 190, \"exp\": \"15 jan 2022\", \"brand\": \"Betty Croker\"}, \"117\": {\"name\": \"Parle G Original\", \"price\": 75, \"quan\": 140, \"exp\": \"13 dec 2011\", \"brand\": \"Parle\"}, \"118\": {\"name\": \"Lays Potato Chips\", \"price\": 47, \"quan\": 450, \"exp\": \"14 feb 2023\", \"brand\": \"Lay\\'s\"}, \"119\": {\"name\": \"Bingo! Mad Angle\", \"price\": 59, \"quan\": 440, \"exp\": \"20 dec 2023\", \"brand\": \"Bingo!\"}, \"120\": {\"name\": \"Kellogg\\'s pringles\", \"price\": 99, \"quan\": 400, \"exp\": \"25 jan 2024\", \"brand\": \"Kellog\\'s\"}, \"121\": {\"name\": \"Dorito\\'s Nacho Chips\", \"price\": 104, \"quan\": 360, \"exp\": \"22 jan 2023\", \"brand\": \"Dorito\\'s\"}, \"122\": {\"name\": \"Thums Up Soft Drink\", \"price\": 103, \"quan\": 60, \"exp\": \"20 dec 2024\", \"brand\": \"Thums Up\"}, \"123\": {\"name\": \"Svami Soda Water\", \"price\": 135, \"quan\": 70, \"exp\": \"20 jun 2023\", \"brand\": \"Svami\"}, \"124\": {\"name\": \"Coca-Cola\", \"price\": 780, \"quan\": 60, \"exp\": \"22 jul 2023\", \"brand\": \"Coca Cola\"}, \"125\": {\"name\": \"Sprite Lime Flavor\", \"price\": 567, \"quan\": 40, \"exp\": \"20 nov 2023\", \"brand\": \"Sprite\"}, \"126\": {\"name\": \"Colgate Maxfresh\", \"price\": 223, \"quan\": 55, \"exp\": \"20 jun 2024\", \"brand\": \"Colgate\"}, \"127\": {\"name\": \"Pepsodent Gum Care\", \"price\": 399, \"quan\": 150, \"exp\": \"15 jul 2022\", \"brand\": \"Pepsodent\"}, \"128\": {\"name\": \"Dairy Milk Silk\", \"price\": 473, \"quan\": 50, \"exp\": \"31 jan 2022\", \"brand\": \"Cadbury\"}, \"129\": {\"name\": \"Nivea Men Face Wash\", \"price\": 194, \"quan\": 98, \"exp\": \"31 jul 2022\", \"brand\": \"Nivea\"}, \"130\": {\"name\": \"Himalaya Herbal Face wash\", \"price\": 144, \"quan\": 200, \"exp\": \"22 may 2022\", \"brand\": \"Himalaya\"}}'"
            ]
          },
          "metadata": {},
          "execution_count": 52
        }
      ]
    },
    {
      "cell_type": "code",
      "metadata": {
        "id": "U54RT5IL89ZI"
      },
      "source": [
        "#opening the json file in writing mode\n",
        "fs=open(\"record.json\",\"w\")\n",
        "fs.write(trs)\n",
        "fs.close()"
      ],
      "execution_count": 53,
      "outputs": []
    },
    {
      "cell_type": "code",
      "metadata": {
        "id": "qv5GFDJz9rz0"
      },
      "source": [
        "#reading the data from json file\n",
        "fs=open(\"record.json\",\"r\")\n",
        "txt_data= fs.read()\n",
        "fs.close()"
      ],
      "execution_count": 54,
      "outputs": []
    },
    {
      "cell_type": "code",
      "metadata": {
        "id": "QEAztOiH-a0P"
      },
      "source": [
        "prod_data=json.loads(txt_data)"
      ],
      "execution_count": 55,
      "outputs": []
    },
    {
      "cell_type": "code",
      "metadata": {
        "colab": {
          "base_uri": "https://localhost:8080/"
        },
        "id": "yFQ-gmeG-hjR",
        "outputId": "2d127638-f4a7-4b59-b680-23e9981d3c33"
      },
      "source": [
        "prod_data"
      ],
      "execution_count": 56,
      "outputs": [
        {
          "output_type": "execute_result",
          "data": {
            "text/plain": [
              "{'101': {'brand': 'Pepsi',\n",
              "  'exp': '20 oct 2023',\n",
              "  'name': 'Pepsi Can',\n",
              "  'price': 120,\n",
              "  'quan': 50},\n",
              " '102': {'brand': 'Tata',\n",
              "  'exp': '12 jan 2022',\n",
              "  'name': 'Tata Salt',\n",
              "  'price': 234,\n",
              "  'quan': 130},\n",
              " '103': {'brand': 'Tata',\n",
              "  'exp': '10 mar 2023',\n",
              "  'name': 'Tata Tea Gold',\n",
              "  'price': 55,\n",
              "  'quan': 145},\n",
              " '104': {'brand': 'Tata',\n",
              "  'exp': '23 jun 2023',\n",
              "  'name': 'Turmeric Powder',\n",
              "  'price': 58,\n",
              "  'quan': 122},\n",
              " '105': {'brand': 'Quaker',\n",
              "  'exp': '30 oct 2022',\n",
              "  'name': 'Quaker Oats',\n",
              "  'price': 25,\n",
              "  'quan': 30},\n",
              " '106': {'brand': 'Saffola',\n",
              "  'exp': '29 jan 2022',\n",
              "  'name': 'Saffola Active',\n",
              "  'price': 432,\n",
              "  'quan': 58},\n",
              " '107': {'brand': 'Nestle',\n",
              "  'exp': '31 aug 2022',\n",
              "  'name': 'Kitkat Desert',\n",
              "  'price': 98,\n",
              "  'quan': 59},\n",
              " '108': {'brand': 'Dark Fantasy',\n",
              "  'exp': '21 feb 2022',\n",
              "  'name': 'Dark Fantasy Choco Fills',\n",
              "  'price': 254,\n",
              "  'quan': 90},\n",
              " '109': {'brand': 'FOGG',\n",
              "  'exp': '01 jan 2024',\n",
              "  'name': 'Fogg Xtremo Scent',\n",
              "  'price': 65,\n",
              "  'quan': 155},\n",
              " '110': {'brand': 'Lotte',\n",
              "  'exp': '01 jun 2022',\n",
              "  'name': 'Lotte Choco Pie',\n",
              "  'price': 107,\n",
              "  'quan': 95},\n",
              " '111': {'brand': 'Britania',\n",
              "  'exp': '15 jul 2022',\n",
              "  'name': 'Britania Chocolate cake',\n",
              "  'price': 121,\n",
              "  'quan': 100},\n",
              " '112': {'brand': 'Pillsbury',\n",
              "  'exp': '02 dec 2021',\n",
              "  'name': 'Pillsbury cookes cake',\n",
              "  'price': 86,\n",
              "  'quan': 200},\n",
              " '113': {'brand': 'Villian',\n",
              "  'exp': '31 may 2024',\n",
              "  'name': 'Villain Perfume men',\n",
              "  'price': 98,\n",
              "  'quan': 230},\n",
              " '114': {'brand': 'Sunfeast',\n",
              "  'exp': '19 mar 2022',\n",
              "  'name': \"Mom's Magic Cashew\",\n",
              "  'price': 83,\n",
              "  'quan': 180},\n",
              " '115': {'brand': 'Cadbury',\n",
              "  'exp': '19 feb 2022',\n",
              "  'name': 'Betty Croker Pancake',\n",
              "  'price': 68,\n",
              "  'quan': 185},\n",
              " '116': {'brand': 'Betty Croker',\n",
              "  'exp': '15 jan 2022',\n",
              "  'name': 'Cadbury Oreo chacolate',\n",
              "  'price': 365,\n",
              "  'quan': 190},\n",
              " '117': {'brand': 'Parle',\n",
              "  'exp': '13 dec 2011',\n",
              "  'name': 'Parle G Original',\n",
              "  'price': 75,\n",
              "  'quan': 140},\n",
              " '118': {'brand': \"Lay's\",\n",
              "  'exp': '14 feb 2023',\n",
              "  'name': 'Lays Potato Chips',\n",
              "  'price': 47,\n",
              "  'quan': 450},\n",
              " '119': {'brand': 'Bingo!',\n",
              "  'exp': '20 dec 2023',\n",
              "  'name': 'Bingo! Mad Angle',\n",
              "  'price': 59,\n",
              "  'quan': 440},\n",
              " '120': {'brand': \"Kellog's\",\n",
              "  'exp': '25 jan 2024',\n",
              "  'name': \"Kellogg's pringles\",\n",
              "  'price': 99,\n",
              "  'quan': 400},\n",
              " '121': {'brand': \"Dorito's\",\n",
              "  'exp': '22 jan 2023',\n",
              "  'name': \"Dorito's Nacho Chips\",\n",
              "  'price': 104,\n",
              "  'quan': 360},\n",
              " '122': {'brand': 'Thums Up',\n",
              "  'exp': '20 dec 2024',\n",
              "  'name': 'Thums Up Soft Drink',\n",
              "  'price': 103,\n",
              "  'quan': 60},\n",
              " '123': {'brand': 'Svami',\n",
              "  'exp': '20 jun 2023',\n",
              "  'name': 'Svami Soda Water',\n",
              "  'price': 135,\n",
              "  'quan': 70},\n",
              " '124': {'brand': 'Coca Cola',\n",
              "  'exp': '22 jul 2023',\n",
              "  'name': 'Coca-Cola',\n",
              "  'price': 780,\n",
              "  'quan': 60},\n",
              " '125': {'brand': 'Sprite',\n",
              "  'exp': '20 nov 2023',\n",
              "  'name': 'Sprite Lime Flavor',\n",
              "  'price': 567,\n",
              "  'quan': 40},\n",
              " '126': {'brand': 'Colgate',\n",
              "  'exp': '20 jun 2024',\n",
              "  'name': 'Colgate Maxfresh',\n",
              "  'price': 223,\n",
              "  'quan': 55},\n",
              " '127': {'brand': 'Pepsodent',\n",
              "  'exp': '15 jul 2022',\n",
              "  'name': 'Pepsodent Gum Care',\n",
              "  'price': 399,\n",
              "  'quan': 150},\n",
              " '128': {'brand': 'Cadbury',\n",
              "  'exp': '31 jan 2022',\n",
              "  'name': 'Dairy Milk Silk',\n",
              "  'price': 473,\n",
              "  'quan': 50},\n",
              " '129': {'brand': 'Nivea',\n",
              "  'exp': '31 jul 2022',\n",
              "  'name': 'Nivea Men Face Wash',\n",
              "  'price': 194,\n",
              "  'quan': 98},\n",
              " '130': {'brand': 'Himalaya',\n",
              "  'exp': '22 may 2022',\n",
              "  'name': 'Himalaya Herbal Face wash',\n",
              "  'price': 144,\n",
              "  'quan': 200}}"
            ]
          },
          "metadata": {},
          "execution_count": 56
        }
      ]
    },
    {
      "cell_type": "code",
      "metadata": {
        "colab": {
          "base_uri": "https://localhost:8080/"
        },
        "id": "BwtU6QcpBldB",
        "outputId": "ec09ffe7-0fb1-4051-d103-bbdaa91d0115"
      },
      "source": [
        "#Adding new products in shop\n",
        "id_prod = input(\"Enter the id for product \")\n",
        "name = input(\"Enter name of product: \")\n",
        "price = int(input(\"Enter price of product: \"))\n",
        "quan = int(input(\"Enter quantity of product: \"))\n",
        "exp = input(\"Enter exp of product: \")\n",
        "brand = input(\"Enter brand of product: \")\n",
        "\n",
        "prod_data[id_prod]={'name':name,'price':price,'quan':quan,'exp':exp,'brand':brand}\n",
        "\n",
        "trs=json.dumps(prod_data)\n",
        "fs=open(\"record.json\",\"w\")\n",
        "fs.write(trs)\n",
        "fs.close()\n"
      ],
      "execution_count": 57,
      "outputs": [
        {
          "name": "stdout",
          "output_type": "stream",
          "text": [
            "Enter the id for product 131\n",
            "Enter name of product: Sunsilk Shampoo\n",
            "Enter price of product: 177\n",
            "Enter quantity of product: 97\n",
            "Enter exp of product: 24 Aug 2025\n",
            "Enter brand of product: Sunsilk\n"
          ]
        }
      ]
    },
    {
      "cell_type": "code",
      "metadata": {
        "colab": {
          "base_uri": "https://localhost:8080/"
        },
        "id": "Xy-vjZt3FBmX",
        "outputId": "0a65c13b-93f0-419f-93fa-b7c6ca61bba9"
      },
      "source": [
        "#Building Menu card of Products available in the shop\n",
        "#Products available at shop\n",
        "print(\"******Welcome to the Shop*******\")\n",
        "print(\"*****MENU CARD*******\")\n",
        "id_list=prod_data.keys()\n",
        "for i in id_list:\n",
        "  print(prod_data[i]['name'])"
      ],
      "execution_count": 58,
      "outputs": [
        {
          "output_type": "stream",
          "name": "stdout",
          "text": [
            "******Welcome to the Shop*******\n",
            "*****MENU CARD*******\n",
            "Pepsi Can\n",
            "Tata Salt\n",
            "Tata Tea Gold\n",
            "Turmeric Powder\n",
            "Quaker Oats\n",
            "Saffola Active\n",
            "Kitkat Desert\n",
            "Dark Fantasy Choco Fills\n",
            "Fogg Xtremo Scent\n",
            "Lotte Choco Pie\n",
            "Britania Chocolate cake\n",
            "Pillsbury cookes cake\n",
            "Villain Perfume men\n",
            "Mom's Magic Cashew\n",
            "Betty Croker Pancake\n",
            "Cadbury Oreo chacolate\n",
            "Parle G Original\n",
            "Lays Potato Chips\n",
            "Bingo! Mad Angle\n",
            "Kellogg's pringles\n",
            "Dorito's Nacho Chips\n",
            "Thums Up Soft Drink\n",
            "Svami Soda Water\n",
            "Coca-Cola\n",
            "Sprite Lime Flavor\n",
            "Colgate Maxfresh\n",
            "Pepsodent Gum Care\n",
            "Dairy Milk Silk\n",
            "Nivea Men Face Wash\n",
            "Himalaya Herbal Face wash\n",
            "Sunsilk Shampoo\n"
          ]
        }
      ]
    },
    {
      "cell_type": "code",
      "metadata": {
        "colab": {
          "base_uri": "https://localhost:8080/",
          "height": 36
        },
        "id": "pUZ_gD0gD96D",
        "outputId": "289799fe-81de-42ab-acf5-6f89b8ec5eb3"
      },
      "source": [
        "import time\n",
        "time.ctime()"
      ],
      "execution_count": 59,
      "outputs": [
        {
          "output_type": "execute_result",
          "data": {
            "application/vnd.google.colaboratory.intrinsic+json": {
              "type": "string"
            },
            "text/plain": [
              "'Mon Sep  6 13:32:35 2021'"
            ]
          },
          "metadata": {},
          "execution_count": 59
        }
      ]
    },
    {
      "cell_type": "code",
      "metadata": {
        "colab": {
          "base_uri": "https://localhost:8080/"
        },
        "id": "UjGb8mwEIEhh",
        "outputId": "e029e90f-601d-469a-b08b-9723b8e5b84b"
      },
      "source": [
        "#Purchasing product from shop and making bill\n",
        "print(\"*******Welcome,glad to have you in shop!*********\")\n",
        "pur_id=input(\"Enter the id of product you want to purchase:\")\n",
        "pur_quan=int(input(\"Enter the quantity of product you want:\"))\n",
        "\n",
        "for i in prod_data.keys():\n",
        "\n",
        "  if pur_id==i:\n",
        "\n",
        "    if(pur_quan <= prod_data[i]['quan']):\n",
        "      print(\"*****Providing the detaiks about product*****\")\n",
        "      print(\"Name of product:\",prod_data[pur_id]['name'])\n",
        "      print(\"Price is:\",prod_data[pur_id]['price'])\n",
        "      print(\"Expiry data of produc:\",prod_data[pur_id]['exp'])\n",
        "      print(\"Brand of product:\",prod_data[pur_id]['brand'])\n",
        "      print(\"Bill you need to pay\")\n",
        "      print(\"Amount:\",prod_data[pur_id]['price']*pur_quan)\n",
        "      print(\"*****Thank you,Visit again*******\") \n",
        "      prod_data[pur_id]['quan']=prod_data[pur_id]['quan']-pur_quan\n",
        "      sales_info={'prod_id':pur_id,'Amount':prod_data[pur_id]['price']*pur_quan}\n",
        "    else:\n",
        "      print(\"Sorry for inconvinence the product you want is out of stock \")\n",
        "    break\n",
        "if pur_id not in list_id:\n",
        "  print(\"Product id you entered is not found.Please enter valid id\")\n"
      ],
      "execution_count": 67,
      "outputs": [
        {
          "output_type": "stream",
          "name": "stdout",
          "text": [
            "*******Welcome,glad to have you in shop!*********\n",
            "Enter the id of product you want to purchase:103\n",
            "Enter the quantity of product you want:23\n",
            "*****Providing the detaiks about product*****\n",
            "Name of product: Tata Tea Gold\n",
            "Price is: 55\n",
            "Expiry data of produc: 10 mar 2023\n",
            "Brand of product: Tata\n",
            "Bill you need to pay\n",
            "Amount: 1265\n",
            "*****Thank you,Visit again*******\n"
          ]
        }
      ]
    },
    {
      "cell_type": "code",
      "metadata": {
        "id": "8ztOk2lLT9AM"
      },
      "source": [
        "#updating quantity in record.json\n",
        "trs = json.dumps(prod_data)\n",
        "\n",
        "fs = open(\"record.json\",'w')\n",
        "fs.write(trs)\n",
        "fs.close()\n",
        "  "
      ],
      "execution_count": 61,
      "outputs": []
    },
    {
      "cell_type": "code",
      "metadata": {
        "colab": {
          "base_uri": "https://localhost:8080/"
        },
        "id": "7uBqaJ1DUPbD",
        "outputId": "4c325c99-f2a8-47ed-d1a1-91cdd8916743"
      },
      "source": [
        "#checking quantity updated or not\n",
        "fs=open(\"record.json\",\"r\")\n",
        "txt_data=fs.read()\n",
        "fs.close()\n",
        "prod_data=json.loads(txt_data)\n",
        "prod_data"
      ],
      "execution_count": 68,
      "outputs": [
        {
          "output_type": "execute_result",
          "data": {
            "text/plain": [
              "{'101': {'brand': 'Pepsi',\n",
              "  'exp': '20 oct 2023',\n",
              "  'name': 'Pepsi Can',\n",
              "  'price': 120,\n",
              "  'quan': 50},\n",
              " '102': {'brand': 'Tata',\n",
              "  'exp': '12 jan 2022',\n",
              "  'name': 'Tata Salt',\n",
              "  'price': 234,\n",
              "  'quan': 130},\n",
              " '103': {'brand': 'Tata',\n",
              "  'exp': '10 mar 2023',\n",
              "  'name': 'Tata Tea Gold',\n",
              "  'price': 55,\n",
              "  'quan': 122},\n",
              " '104': {'brand': 'Tata',\n",
              "  'exp': '23 jun 2023',\n",
              "  'name': 'Turmeric Powder',\n",
              "  'price': 58,\n",
              "  'quan': 122},\n",
              " '105': {'brand': 'Quaker',\n",
              "  'exp': '30 oct 2022',\n",
              "  'name': 'Quaker Oats',\n",
              "  'price': 25,\n",
              "  'quan': 30},\n",
              " '106': {'brand': 'Saffola',\n",
              "  'exp': '29 jan 2022',\n",
              "  'name': 'Saffola Active',\n",
              "  'price': 432,\n",
              "  'quan': 58},\n",
              " '107': {'brand': 'Nestle',\n",
              "  'exp': '31 aug 2022',\n",
              "  'name': 'Kitkat Desert',\n",
              "  'price': 98,\n",
              "  'quan': 59},\n",
              " '108': {'brand': 'Dark Fantasy',\n",
              "  'exp': '21 feb 2022',\n",
              "  'name': 'Dark Fantasy Choco Fills',\n",
              "  'price': 254,\n",
              "  'quan': 90},\n",
              " '109': {'brand': 'FOGG',\n",
              "  'exp': '01 jan 2024',\n",
              "  'name': 'Fogg Xtremo Scent',\n",
              "  'price': 65,\n",
              "  'quan': 155},\n",
              " '110': {'brand': 'Lotte',\n",
              "  'exp': '01 jun 2022',\n",
              "  'name': 'Lotte Choco Pie',\n",
              "  'price': 107,\n",
              "  'quan': 95},\n",
              " '111': {'brand': 'Britania',\n",
              "  'exp': '15 jul 2022',\n",
              "  'name': 'Britania Chocolate cake',\n",
              "  'price': 121,\n",
              "  'quan': 100},\n",
              " '112': {'brand': 'Pillsbury',\n",
              "  'exp': '02 dec 2021',\n",
              "  'name': 'Pillsbury cookes cake',\n",
              "  'price': 86,\n",
              "  'quan': 200},\n",
              " '113': {'brand': 'Villian',\n",
              "  'exp': '31 may 2024',\n",
              "  'name': 'Villain Perfume men',\n",
              "  'price': 98,\n",
              "  'quan': 230},\n",
              " '114': {'brand': 'Sunfeast',\n",
              "  'exp': '19 mar 2022',\n",
              "  'name': \"Mom's Magic Cashew\",\n",
              "  'price': 83,\n",
              "  'quan': 180},\n",
              " '115': {'brand': 'Cadbury',\n",
              "  'exp': '19 feb 2022',\n",
              "  'name': 'Betty Croker Pancake',\n",
              "  'price': 68,\n",
              "  'quan': 185},\n",
              " '116': {'brand': 'Betty Croker',\n",
              "  'exp': '15 jan 2022',\n",
              "  'name': 'Cadbury Oreo chacolate',\n",
              "  'price': 365,\n",
              "  'quan': 190},\n",
              " '117': {'brand': 'Parle',\n",
              "  'exp': '13 dec 2011',\n",
              "  'name': 'Parle G Original',\n",
              "  'price': 75,\n",
              "  'quan': 140},\n",
              " '118': {'brand': \"Lay's\",\n",
              "  'exp': '14 feb 2023',\n",
              "  'name': 'Lays Potato Chips',\n",
              "  'price': 47,\n",
              "  'quan': 450},\n",
              " '119': {'brand': 'Bingo!',\n",
              "  'exp': '20 dec 2023',\n",
              "  'name': 'Bingo! Mad Angle',\n",
              "  'price': 59,\n",
              "  'quan': 440},\n",
              " '120': {'brand': \"Kellog's\",\n",
              "  'exp': '25 jan 2024',\n",
              "  'name': \"Kellogg's pringles\",\n",
              "  'price': 99,\n",
              "  'quan': 400},\n",
              " '121': {'brand': \"Dorito's\",\n",
              "  'exp': '22 jan 2023',\n",
              "  'name': \"Dorito's Nacho Chips\",\n",
              "  'price': 104,\n",
              "  'quan': 360},\n",
              " '122': {'brand': 'Thums Up',\n",
              "  'exp': '20 dec 2024',\n",
              "  'name': 'Thums Up Soft Drink',\n",
              "  'price': 103,\n",
              "  'quan': 60},\n",
              " '123': {'brand': 'Svami',\n",
              "  'exp': '20 jun 2023',\n",
              "  'name': 'Svami Soda Water',\n",
              "  'price': 135,\n",
              "  'quan': 70},\n",
              " '124': {'brand': 'Coca Cola',\n",
              "  'exp': '22 jul 2023',\n",
              "  'name': 'Coca-Cola',\n",
              "  'price': 780,\n",
              "  'quan': 60},\n",
              " '125': {'brand': 'Sprite',\n",
              "  'exp': '20 nov 2023',\n",
              "  'name': 'Sprite Lime Flavor',\n",
              "  'price': 567,\n",
              "  'quan': 40},\n",
              " '126': {'brand': 'Colgate',\n",
              "  'exp': '20 jun 2024',\n",
              "  'name': 'Colgate Maxfresh',\n",
              "  'price': 223,\n",
              "  'quan': 55},\n",
              " '127': {'brand': 'Pepsodent',\n",
              "  'exp': '15 jul 2022',\n",
              "  'name': 'Pepsodent Gum Care',\n",
              "  'price': 399,\n",
              "  'quan': 150},\n",
              " '128': {'brand': 'Cadbury',\n",
              "  'exp': '31 jan 2022',\n",
              "  'name': 'Dairy Milk Silk',\n",
              "  'price': 473,\n",
              "  'quan': 50},\n",
              " '129': {'brand': 'Nivea',\n",
              "  'exp': '31 jul 2022',\n",
              "  'name': 'Nivea Men Face Wash',\n",
              "  'price': 194,\n",
              "  'quan': 98},\n",
              " '130': {'brand': 'Himalaya',\n",
              "  'exp': '22 may 2022',\n",
              "  'name': 'Himalaya Herbal Face wash',\n",
              "  'price': 144,\n",
              "  'quan': 200},\n",
              " '131': {'brand': 'Sunsilk',\n",
              "  'exp': '24 Aug 2025',\n",
              "  'name': 'Sunsilk Shampoo',\n",
              "  'price': 177,\n",
              "  'quan': 97}}"
            ]
          },
          "metadata": {},
          "execution_count": 68
        }
      ]
    },
    {
      "cell_type": "code",
      "metadata": {
        "id": "q8-kNAybZMKh"
      },
      "source": [
        "sale=json.dumps(sales_info)\n",
        "fd=open(\"sales.json\",\"w\")\n",
        "fd.write(sale)\n",
        "fd.close()"
      ],
      "execution_count": 70,
      "outputs": []
    },
    {
      "cell_type": "code",
      "metadata": {
        "colab": {
          "base_uri": "https://localhost:8080/"
        },
        "id": "yx5wLv8iZwpY",
        "outputId": "fba67532-5e8c-4415-d91a-031373cec4aa"
      },
      "source": [
        "fd =open(\"sales.json\",\"r\")\n",
        "sale_data=fd.read()\n",
        "fd.close()\n",
        "sales_info=json.loads(sale_data)\n",
        "sales_info"
      ],
      "execution_count": 71,
      "outputs": [
        {
          "output_type": "execute_result",
          "data": {
            "text/plain": [
              "{'Amount': 1265, 'prod_id': '103'}"
            ]
          },
          "metadata": {},
          "execution_count": 71
        }
      ]
    }
  ]
}